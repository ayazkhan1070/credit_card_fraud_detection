{
 "cells": [
  {
   "cell_type": "code",
   "execution_count": 15,
   "metadata": {},
   "outputs": [],
   "source": [
    "import pandas as pd\n",
    "import numpy as np\n",
    "from sklearn.model_selection import train_test_split\n",
    "from sklearn.preprocessing import StandardScaler\n",
    "from sklearn.metrics import accuracy_score, confusion_matrix, classification_report\n",
    "from sklearn.ensemble import IsolationForest\n",
    "from sklearn.neighbors import LocalOutlierFactor\n",
    "from sklearn.metrics import precision_recall_fscore_support, roc_auc_score\n",
    "from sklearn.decomposition import PCA\n",
    "import warnings\n",
    "warnings.filterwarnings('ignore')"
   ]
  },
  {
   "cell_type": "code",
   "execution_count": 16,
   "metadata": {},
   "outputs": [],
   "source": [
    "df=pd.read_csv('D:\\ds_intern\\credit card-AssignmentData.csv')"
   ]
  },
  {
   "cell_type": "code",
   "execution_count": 17,
   "metadata": {},
   "outputs": [
    {
     "data": {
      "text/plain": [
       "<bound method DataFrame.drop_duplicates of           Time        V1        V2        V3        V4        V5        V6  \\\n",
       "0            0 -1.359807 -0.072781  2.536347  1.378155 -0.338321  0.462388   \n",
       "1            0  1.191857  0.266151  0.166480  0.448154  0.060018 -0.082361   \n",
       "2            1 -1.358354 -1.340163  1.773209  0.379780 -0.503198  1.800499   \n",
       "3            1 -0.966272 -0.185226  1.792993 -0.863291 -0.010309  1.247203   \n",
       "4            2 -1.158233  0.877737  1.548718  0.403034 -0.407193  0.095921   \n",
       "...        ...       ...       ...       ...       ...       ...       ...   \n",
       "284802  169142 -1.927883  1.125653 -4.518331  1.749293 -1.566487 -2.010494   \n",
       "284803  169347  1.378559  1.289381 -5.004247  1.411850  0.442581 -1.326536   \n",
       "284804  169351 -0.676143  1.126366 -2.213700  0.468308 -1.120541 -0.003346   \n",
       "284805  169966 -3.113832  0.585864 -5.399730  1.817092 -0.840618 -2.943548   \n",
       "284806  170348  1.991976  0.158476 -2.583441  0.408670  1.151147 -0.096695   \n",
       "\n",
       "                  V7        V8        V9  ...       V21       V22       V23  \\\n",
       "0        0.239598554  0.098698  0.363787  ... -0.018307  0.277838 -0.110474   \n",
       "1       -0.078802983  0.085102 -0.255425  ... -0.225775 -0.638672  0.101288   \n",
       "2        0.791460956  0.247676 -1.514654  ...  0.247998  0.771679  0.909412   \n",
       "3         0.23760894  0.377436 -1.387024  ... -0.108300  0.005274 -0.190321   \n",
       "4        0.592940745 -0.270533  0.817739  ... -0.009431  0.798278 -0.137458   \n",
       "...              ...       ...       ...  ...       ...       ...       ...   \n",
       "284802      -0.88285  0.697211 -2.064945  ...  0.778584 -0.319189  0.639419   \n",
       "284803      -1.41317  0.248525 -1.127396  ...  0.370612  0.028234 -0.145640   \n",
       "284804     -2.234739  1.210158  -0.65225  ...  0.751826  0.834108  0.190944   \n",
       "284805     -2.208002  1.058733 -1.632333  ...  0.583276 -0.269209 -0.456108   \n",
       "284806       0.22305 -0.068384  0.577829  ... -0.164350 -0.295135 -0.072173   \n",
       "\n",
       "                 V24       V25       V26       V27       V28  Amount  Class  \n",
       "0        0.066928075  0.128539 -0.189115  0.133558 -0.021053  149.62      0  \n",
       "1       -0.339846476  0.167170  0.125895 -0.008983  0.014724    2.69      0  \n",
       "2       -0.689280956 -0.327642 -0.139097 -0.055353 -0.059752  378.66      0  \n",
       "3       -1.175575332  0.647376 -0.221929  0.062723  0.061458  123.50      0  \n",
       "4        0.141266984 -0.206010  0.502292  0.219422  0.215153   69.99      0  \n",
       "...              ...       ...       ...       ...       ...     ...    ...  \n",
       "284802     -0.294885  0.537503  0.788395  0.292680  0.147968  390.00      1  \n",
       "284803     -0.081049  0.521875  0.739467  0.389152  0.186637    0.76      1  \n",
       "284804       0.03207 -0.739695  0.471111  0.385107  0.194361   77.89      1  \n",
       "284805     -0.183659 -0.328168  0.606116  0.884876 -0.253700  245.00      1  \n",
       "284806     -0.450261  0.313267 -0.289617  0.002988 -0.015309   42.53      1  \n",
       "\n",
       "[284807 rows x 31 columns]>"
      ]
     },
     "execution_count": 17,
     "metadata": {},
     "output_type": "execute_result"
    }
   ],
   "source": [
    "df.drop_duplicates"
   ]
  },
  {
   "cell_type": "code",
   "execution_count": 18,
   "metadata": {},
   "outputs": [],
   "source": [
    "df_cleaned = df.copy()\n",
    "for col in ['V2', 'V7', 'V9', 'V24']:\n",
    "    df_cleaned[col] = pd.to_numeric(df_cleaned[col], errors='coerce')"
   ]
  },
  {
   "cell_type": "code",
   "execution_count": 19,
   "metadata": {},
   "outputs": [],
   "source": [
    "df_cleaned.dropna(inplace=True)"
   ]
  },
  {
   "cell_type": "code",
   "execution_count": 20,
   "metadata": {},
   "outputs": [],
   "source": [
    "scaler = StandardScaler()\n",
    "df_cleaned[['Time', 'Amount']] = scaler.fit_transform(df_cleaned[['Time', 'Amount']])"
   ]
  },
  {
   "cell_type": "code",
   "execution_count": 21,
   "metadata": {},
   "outputs": [],
   "source": [
    "pca_features = df_cleaned.drop(columns=['Class']).values"
   ]
  },
  {
   "cell_type": "code",
   "execution_count": 22,
   "metadata": {},
   "outputs": [],
   "source": [
    "pca = PCA(n_components=2)"
   ]
  },
  {
   "cell_type": "code",
   "execution_count": 23,
   "metadata": {},
   "outputs": [],
   "source": [
    "pca_transformed = pca.fit_transform(pca_features)"
   ]
  },
  {
   "cell_type": "code",
   "execution_count": 24,
   "metadata": {},
   "outputs": [],
   "source": [
    "pca_df = pd.DataFrame(data=pca_transformed, columns=['PC1', 'PC2'])\n",
    "pca_df['Class'] = df_cleaned['Class']"
   ]
  },
  {
   "cell_type": "code",
   "execution_count": 25,
   "metadata": {},
   "outputs": [],
   "source": [
    "pca_df.dropna(inplace=True)"
   ]
  },
  {
   "cell_type": "code",
   "execution_count": 26,
   "metadata": {},
   "outputs": [],
   "source": [
    "X = pca_df.drop(columns=['Class']).values\n",
    "y = pca_df['Class'].values  "
   ]
  },
  {
   "cell_type": "code",
   "execution_count": 27,
   "metadata": {},
   "outputs": [],
   "source": [
    "# 1. Isolation Forest\n",
    "iso_forest = IsolationForest(contamination=0.0017, random_state=42)  # Contamination roughly equals to the proportion of frauds\n",
    "iso_forest.fit(X)\n",
    "y_pred_iso = iso_forest.predict(X)\n",
    "y_pred_iso = [1 if pred == -1 else 0 for pred in y_pred_iso]  # Anomalies are labeled as -1"
   ]
  },
  {
   "cell_type": "code",
   "execution_count": 28,
   "metadata": {},
   "outputs": [],
   "source": [
    "# 2. Local Outlier Factor (LOF)\n",
    "lof = LocalOutlierFactor(n_neighbors=20, contamination=0.0017,novelty=True)\n",
    "lof = lof.fit(X)\n",
    "y_pred_lof=lof.predict(X)\n",
    "y_pred_lof = [1 if pred == -1 else 0 for pred in y_pred_lof]  # Anomalies are labeled as -1"
   ]
  },
  {
   "cell_type": "code",
   "execution_count": 30,
   "metadata": {},
   "outputs": [],
   "source": [
    "import pickle"
   ]
  },
  {
   "cell_type": "code",
   "execution_count": 31,
   "metadata": {},
   "outputs": [],
   "source": [
    "pickle.dump(lof,open('lof.pkl','wb'))"
   ]
  },
  {
   "cell_type": "code",
   "execution_count": 32,
   "metadata": {},
   "outputs": [],
   "source": [
    "pickle.dump(iso_forest,open('iso_forest.pkl','wb'))"
   ]
  },
  {
   "cell_type": "code",
   "execution_count": 33,
   "metadata": {},
   "outputs": [],
   "source": [
    "with open(\"D:/ds_intern/scaler.pkl\", 'wb') as file:\n",
    "    pickle.dump(scaler, file)\n",
    "\n",
    "with open(\"D:/ds_intern/pca.pkl\", 'wb') as file:\n",
    "    pickle.dump(pca, file)"
   ]
  }
 ],
 "metadata": {
  "kernelspec": {
   "display_name": "venv",
   "language": "python",
   "name": "python3"
  },
  "language_info": {
   "codemirror_mode": {
    "name": "ipython",
    "version": 3
   },
   "file_extension": ".py",
   "mimetype": "text/x-python",
   "name": "python",
   "nbconvert_exporter": "python",
   "pygments_lexer": "ipython3",
   "version": "3.10.4"
  }
 },
 "nbformat": 4,
 "nbformat_minor": 2
}
